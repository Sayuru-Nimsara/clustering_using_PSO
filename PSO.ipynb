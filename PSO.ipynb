{
 "cells": [
  {
   "cell_type": "markdown",
   "metadata": {},
   "source": [
    "Import libraries"
   ]
  },
  {
   "cell_type": "code",
   "execution_count": 21,
   "metadata": {},
   "outputs": [],
   "source": [
    "import numpy as np\n",
    "import pandas as pd \n",
    "from sklearn.preprocessing import LabelEncoder, StandardScaler,MinMaxScaler\n",
    "import matplotlib.pyplot as plt\n",
    "from sklearn.metrics import silhouette_score, davies_bouldin_score, calinski_harabasz_score\n",
    "from sklearn.metrics import confusion_matrix, ConfusionMatrixDisplay\n",
    "from sklearn.metrics import accuracy_score"
   ]
  },
  {
   "cell_type": "markdown",
   "metadata": {},
   "source": [
    "Define functions needed "
   ]
  },
  {
   "cell_type": "code",
   "execution_count": 22,
   "metadata": {},
   "outputs": [],
   "source": [
    "# Function to calculate Euclidean distance between two points\n",
    "def euclidean_distance(point1, point2):\n",
    "    return np.linalg.norm(point1 - point2)"
   ]
  },
  {
   "cell_type": "code",
   "execution_count": 23,
   "metadata": {},
   "outputs": [],
   "source": [
    "# Function to initialize particles with random centroids\n",
    "def initialize_particles(num_particles, num_clusters, nd):\n",
    "    particles = []\n",
    "    for _ in range(num_particles):\n",
    "        particle = np.random.rand(num_clusters, nd)\n",
    "        particles.append(particle)\n",
    "    return particles"
   ]
  },
  {
   "cell_type": "code",
   "execution_count": 24,
   "metadata": {},
   "outputs": [],
   "source": [
    "# Function to initialize velocities for centroids in particles\n",
    "def initialize_velocities(num_particles, num_clusters, num_dimensions):\n",
    "    velocities = []\n",
    "    for _ in range(num_particles):\n",
    "        particle_velocities = []\n",
    "        for _ in range(num_clusters):\n",
    "            velocity = np.zeros(num_dimensions)\n",
    "            particle_velocities.append(velocity)\n",
    "        velocities.append(particle_velocities)\n",
    "    return velocities"
   ]
  },
  {
   "cell_type": "code",
   "execution_count": 25,
   "metadata": {},
   "outputs": [],
   "source": [
    "# Function to lable data vectors to the nearest cluster centroid\n",
    "def assign_cluster_lable(data, particle):\n",
    "    clusters_lables_particle = [[] for _ in data]\n",
    "    for pointIndex,point in enumerate(data):\n",
    "        distances = [euclidean_distance(point, centroid) for centroid in particle]\n",
    "        nearest_centroid_index = np.argmin(distances)\n",
    "        clusters_lables_particle[pointIndex] = nearest_centroid_index\n",
    "        \n",
    "    return clusters_lables_particle"
   ]
  },
  {
   "cell_type": "code",
   "execution_count": 26,
   "metadata": {},
   "outputs": [],
   "source": [
    "# Fitness function based on quantization error\n",
    "def calculate_fitness(data, centroids):\n",
    "    total_error = 0\n",
    "    for point in data:\n",
    "        distances = [euclidean_distance(point, centroid) for centroid in centroids]\n",
    "        nearest_centroid_index = np.argmin(distances)\n",
    "        nearest_centroid = centroids[nearest_centroid_index]\n",
    "        quantization_error = euclidean_distance(point, nearest_centroid)\n",
    "        total_error += quantization_error\n",
    "    return len(data) / total_error  # Invert quantization error to convert to fitness value"
   ]
  },
  {
   "cell_type": "code",
   "execution_count": 27,
   "metadata": {},
   "outputs": [],
   "source": [
    "#Initialize fitness of the particles\n",
    "def initialize_fitness(data, particles):\n",
    "  local_fitnesses = []\n",
    "  for particle in enumerate(particles):\n",
    "    local_fitnesses.append(calculate_fitness(data,particle))\n",
    "  return local_fitnesses"
   ]
  },
  {
   "cell_type": "code",
   "execution_count": 28,
   "metadata": {},
   "outputs": [],
   "source": [
    "# Update velocities\n",
    "def update_particle_velocity(particle, velocity, w, c1, c2, global_best_particle, local_best_particle,no_of_clusters, nd):\n",
    "    r1 = np.random.rand(no_of_clusters, nd)\n",
    "    r2 = np.random.rand(no_of_clusters, nd)\n",
    "    new_velocity = w * velocity + c1 * r1 * (local_best_particle - particle) + c2 * r2 * (global_best_particle - particle)\n",
    "    #cliped_new_velocity = clip_velocity_with_max(new_velocity, v_max)\n",
    "    return new_velocity.tolist()"
   ]
  },
  {
   "cell_type": "code",
   "execution_count": 29,
   "metadata": {},
   "outputs": [],
   "source": [
    "# Update centroids\n",
    "def update_particle_centroid(particle, velocity):\n",
    "    new_centroid = particle + velocity\n",
    "    return new_centroid"
   ]
  },
  {
   "cell_type": "code",
   "execution_count": 30,
   "metadata": {},
   "outputs": [],
   "source": [
    "# Update local best particle position \n",
    "def update_local_best(particle,local_fitness,local_best_fitness,particle_index,local_best_particles):\n",
    "  if local_fitness[particle_index] > local_best_fitness[particle_index]:\n",
    "    local_best_particles[particle_index] = particle\n",
    "    local_best_fitness[particle_index] = local_fitness[particle_index]\n",
    "    \n",
    "  return local_best_particles,local_best_fitness"
   ]
  },
  {
   "cell_type": "code",
   "execution_count": 31,
   "metadata": {},
   "outputs": [],
   "source": [
    "# Update global best particle postion\n",
    "def update_global_best_particle(particles,local_fitness):\n",
    "  max_fitness_index = np.argmax(local_fitness)\n",
    "  global_best_particle = particles[max_fitness_index]\n",
    "  return global_best_particle, max_fitness_index"
   ]
  },
  {
   "cell_type": "code",
   "execution_count": 32,
   "metadata": {},
   "outputs": [],
   "source": [
    "def pso_clustering(data, num_clusters, num_particles, max_iterations, w, c1, c2):\n",
    "    nd = len(data[0])  # Dimension of input data vectors\n",
    "\n",
    "    # Initialize particles centroids \n",
    "    particles_centroids = initialize_particles(num_particles, num_clusters, nd)\n",
    "    \n",
    "    # Initialize velocities \n",
    "    velocities = initialize_velocities(num_particles,num_clusters, nd)\n",
    "\n",
    "    # Initialize local best particle\n",
    "    local_best_particles = [particle.copy() for particle in particles_centroids]\n",
    "    \n",
    "    # Calculate fitness for particle particles\n",
    "    local_fitnesses = initialize_fitness(data, particles_centroids)\n",
    "    \n",
    "    # Initialize local best particles\n",
    "    local_best_fitness = list(local_fitnesses)\n",
    "    \n",
    "    # Initialize max fitness index\n",
    "    max_fitness_index = np.argmax(local_fitnesses)\n",
    "    \n",
    "    # Initialize global best particles\n",
    "    global_best_particle = particles_centroids[max_fitness_index]\n",
    "\n",
    "    for iteration_no, _ in enumerate(range(max_iterations)):\n",
    "        \n",
    "        # Define cluster lable list\n",
    "        clusters = []\n",
    "        # Define cluster lable list\n",
    "        clusters_lables = []\n",
    "        for particle_index, particle in enumerate(particles_centroids):\n",
    "           \n",
    "            # Assign cluster labels to data\n",
    "            clusters_lables.append(assign_cluster_lable(data,particle))\n",
    "            \n",
    "            # Calculate fitness of the particle\n",
    "            local_fitnesses[particle_index] = calculate_fitness(data,particle)\n",
    "            \n",
    "            # Update velocities\n",
    "            velocities[particle_index] = update_particle_velocity(np.array(particle), np.array(velocities[particle_index]), w, c1, c2, np.array(global_best_particle), np.array(local_best_particles[particle_index]),num_clusters, nd)\n",
    "            \n",
    "            # Update particle centroids\n",
    "            particles_centroids[particle_index] = update_particle_centroid(particle, velocities[particle_index])\n",
    "            \n",
    "            # Update local best particle and local best fitness value\n",
    "            local_best_particles, local_best_fitness = update_local_best(particle, local_fitnesses, local_best_fitness, particle_index,local_best_particles)\n",
    "             \n",
    "        # Update globle best particle and globle best fitness value  \n",
    "        global_best_particle, max_fitness_index = update_global_best_particle(particles_centroids,local_fitnesses)\n",
    "        \n",
    "        if iteration_no%10 == 0:\n",
    "            print(\"------------------------------------------------------------- \" )\n",
    "            # Print iteration number\n",
    "            print(\"Iteration : \" +str(iteration_no))\n",
    "            # Print globle best fitness\n",
    "            print(\"Max finess of the iteration : \" + str(local_fitnesses[max_fitness_index]))\n",
    "            \n",
    "    \n",
    "    # Print final globle best particle fitness\n",
    "    print(\"------------------------------------------------------------- \" )\n",
    "            # Print iteration number\n",
    "    print(\"Iteration : \" +str(max_iterations))\n",
    "            # Print globle best fitness\n",
    "    print(\"Max finess of the iteration : \" + str(local_fitnesses[max_fitness_index]))    \n",
    "    return global_best_particle,clusters_lables[max_fitness_index]\n"
   ]
  },
  {
   "cell_type": "markdown",
   "metadata": {},
   "source": [
    "Data preprocessing"
   ]
  },
  {
   "cell_type": "code",
   "execution_count": 33,
   "metadata": {},
   "outputs": [
    {
     "name": "stdout",
     "output_type": "stream",
     "text": [
      "   SepalLengthCm  SepalWidthCm  PetalLengthCm  PetalWidthCm\n",
      "0       0.222222      0.625000       0.067797      0.041667\n",
      "1       0.166667      0.416667       0.067797      0.041667\n",
      "2       0.111111      0.500000       0.050847      0.041667\n",
      "3       0.083333      0.458333       0.084746      0.041667\n",
      "4       0.194444      0.666667       0.067797      0.041667\n"
     ]
    }
   ],
   "source": [
    "# Read CSV file\n",
    "iris = pd.read_csv(\"Iris.csv\")\n",
    "\n",
    "# Removing Unnecessary Columns\n",
    "iris.drop(columns=['Id'], inplace=True)\n",
    "\n",
    "# Encoding Categorical Variables ('Species')\n",
    "label_encoder = LabelEncoder()\n",
    "iris['Species'] = label_encoder.fit_transform(iris['Species'])\n",
    "\n",
    "# Scaling Features\n",
    "scaler = MinMaxScaler()\n",
    "scaled_features = scaler.fit_transform(iris.drop(columns=['Species']))\n",
    "iris_scaled = pd.DataFrame(scaled_features, columns=iris.columns[:-1])  # Exclude 'Species' from scaling\n",
    "\n",
    "print(iris_scaled.head())"
   ]
  },
  {
   "cell_type": "markdown",
   "metadata": {},
   "source": [
    "Run pso_clustering with suitable parameter values"
   ]
  },
  {
   "cell_type": "code",
   "execution_count": 34,
   "metadata": {},
   "outputs": [
    {
     "name": "stdout",
     "output_type": "stream",
     "text": [
      "------------------------------------------------------------- \n",
      "Iteration : 0\n",
      "Max finess of the iteration : 2.458470528108453\n"
     ]
    },
    {
     "name": "stdout",
     "output_type": "stream",
     "text": [
      "------------------------------------------------------------- \n",
      "Iteration : 10\n",
      "Max finess of the iteration : 2.1975815810757684\n",
      "------------------------------------------------------------- \n",
      "Iteration : 20\n",
      "Max finess of the iteration : 3.01176715119409\n",
      "------------------------------------------------------------- \n",
      "Iteration : 30\n",
      "Max finess of the iteration : 3.7623264210487894\n",
      "------------------------------------------------------------- \n",
      "Iteration : 40\n",
      "Max finess of the iteration : 4.0385435478766585\n",
      "------------------------------------------------------------- \n",
      "Iteration : 50\n",
      "Max finess of the iteration : 4.051729033276446\n",
      "------------------------------------------------------------- \n",
      "Iteration : 60\n",
      "Max finess of the iteration : 4.77999314340731\n",
      "------------------------------------------------------------- \n",
      "Iteration : 70\n",
      "Max finess of the iteration : 4.834600894855689\n",
      "------------------------------------------------------------- \n",
      "Iteration : 80\n",
      "Max finess of the iteration : 4.827717582393917\n",
      "------------------------------------------------------------- \n",
      "Iteration : 90\n",
      "Max finess of the iteration : 5.016898504542365\n",
      "------------------------------------------------------------- \n",
      "Iteration : 100\n",
      "Max finess of the iteration : 5.09888284454554\n"
     ]
    }
   ],
   "source": [
    "# Extracting the values of the DataFrame as a NumPy array\n",
    "data = iris_scaled.values \n",
    "\n",
    "# Call the pso_clustering function with scaled data\n",
    "num_clusters = 3  # Define the number of clusters\n",
    "num_particles = 10  # Define the number of particles\n",
    "max_iterations = 100 # Define the maximum number of iterations\n",
    "w = 0.5  # Define the inertia weight\n",
    "c1 = 1.49 # Define the cognitive parameter\n",
    "c2 = 1.49  # Define the social parameter\n",
    "\n",
    "global_best_particle, predicted_class_lables = pso_clustering(data, num_clusters, num_particles, max_iterations, w, c1, c2)"
   ]
  },
  {
   "cell_type": "markdown",
   "metadata": {},
   "source": [
    "Mapping clusters to ground truth "
   ]
  },
  {
   "cell_type": "code",
   "execution_count": 35,
   "metadata": {},
   "outputs": [
    {
     "name": "stdout",
     "output_type": "stream",
     "text": [
      "{0: 'Iris-virginica', 1: 'Iris-versicolor', 2: 'Iris-setosa'}\n"
     ]
    }
   ],
   "source": [
    "# Map predicted clusters to ground truth classes\n",
    "predicted_class_lables_np = np.array(predicted_class_lables)\n",
    "mapping = {}\n",
    "for cluster in range(3):\n",
    "    # Get the majority class in terms of numerical values\n",
    "    majority_class_numeric = iris['Species'].iloc[predicted_class_lables_np == cluster].mode()[0] #if error occures here run all the code again(this error occured due poor clustering.when we get only 2 clusters this error occur)\n",
    "    \n",
    "    mapping[cluster] = majority_class_numeric\n",
    "    \n",
    "    \n",
    "# Define class_names list relavant to iris data set\n",
    "class_names = ['Iris-setosa', 'Iris-versicolor', 'Iris-virginica']\n",
    "\n",
    "# Create a dictionary to map numeric labels to class names\n",
    "numeric_to_class = {0: class_names[mapping[0]],\n",
    "                    1: class_names[mapping[1]],\n",
    "                    2: class_names[mapping[2]]}\n",
    "\n",
    "print(numeric_to_class)"
   ]
  },
  {
   "cell_type": "markdown",
   "metadata": {},
   "source": [
    "Visualising the predicted clusters"
   ]
  },
  {
   "cell_type": "code",
   "execution_count": 36,
   "metadata": {},
   "outputs": [
    {
     "data": {
      "text/plain": [
       "<matplotlib.legend.Legend at 0x17afc226a10>"
      ]
     },
     "execution_count": 36,
     "metadata": {},
     "output_type": "execute_result"
    },
    {
     "data": {
      "image/png": "[encoded data removed]",
      "text/plain": [
       "<Figure size 640x480 with 1 Axes>"
      ]
     },
     "metadata": {},
     "output_type": "display_data"
    }
   ],
   "source": [
    "# Visualising the clusters \n",
    "cols = iris.columns \n",
    "class_colors = {'Iris-setosa': 'purple', \n",
    "                'Iris-versicolor': 'orange', \n",
    "                'Iris-virginica': 'green'}\n",
    "for numeric_label, class_name in numeric_to_class.items():\n",
    "    color = class_colors[class_name]\n",
    "    plt.scatter(iris_scaled.loc[predicted_class_lables_np == numeric_label, cols[0]], \n",
    "                iris_scaled.loc[predicted_class_lables_np == numeric_label, cols[1]], \n",
    "                s=100, c=color, \n",
    "                label=class_name) \n",
    "\n",
    "# Plotting the centroids of the clusters \n",
    "plt.scatter(global_best_particle[:, 0], \n",
    "\t\t\tglobal_best_particle[:, 1], \n",
    "\t\t\ts=100, c='red', \n",
    "\t\t\tlabel='Centroids',\n",
    "   \t\tmarker='*') \n",
    "\n",
    "plt.legend() "
   ]
  },
  {
   "cell_type": "markdown",
   "metadata": {},
   "source": [
    "Implement evaluation metrics to assess the quality of clustering results obtain by PSO algorithm"
   ]
  },
  {
   "cell_type": "code",
   "execution_count": 37,
   "metadata": {},
   "outputs": [],
   "source": [
    "# Calculate the quantization error\n",
    "def calculate_quantization_error(data, centroids):\n",
    "    total_error = 0\n",
    "    for point in data:\n",
    "        distances = [euclidean_distance(point, centroid) for centroid in centroids]\n",
    "        nearest_centroid_index = np.argmin(distances)\n",
    "        nearest_centroid = centroids[nearest_centroid_index]\n",
    "        quantization_error = euclidean_distance(point, nearest_centroid)\n",
    "        total_error += quantization_error\n",
    "    return total_error / len(data) "
   ]
  },
  {
   "cell_type": "code",
   "execution_count": 38,
   "metadata": {},
   "outputs": [
    {
     "name": "stdout",
     "output_type": "stream",
     "text": [
      "Quantization Score: 0.19659444791617278\n",
      "Silhouette Score: 0.4822748343598164\n",
      "Davies-Bouldin Index: 0.7880633307836606\n",
      "Calinski-Harabasz Index: 347.56448581927094\n"
     ]
    }
   ],
   "source": [
    "\n",
    "# Compute Quantization_error\n",
    "quantization_error = calculate_quantization_error(data, global_best_particle)\n",
    "\n",
    "# Compute Silhouette Score\n",
    "silhouette_avg = silhouette_score(iris_scaled, predicted_class_lables_np)\n",
    "\n",
    "# Compute Davies-Bouldin Index\n",
    "davies_bouldin_idx = davies_bouldin_score(iris_scaled, predicted_class_lables_np)\n",
    "\n",
    "# Compute Calinski-Harabasz Index\n",
    "calinski_harabasz_idx = calinski_harabasz_score(iris_scaled, predicted_class_lables_np)\n",
    "\n",
    "print(f\"Quantization Score: {quantization_error}\")\n",
    "print(f\"Silhouette Score: {silhouette_avg}\")\n",
    "print(f\"Davies-Bouldin Index: {davies_bouldin_idx}\")\n",
    "print(f\"Calinski-Harabasz Index: {calinski_harabasz_idx}\")"
   ]
  },
  {
   "cell_type": "markdown",
   "metadata": {},
   "source": [
    "Visualize how may data points clustersd correctly"
   ]
  },
  {
   "cell_type": "code",
   "execution_count": 39,
   "metadata": {},
   "outputs": [
    {
     "data": {
      "image/png": "[encoded data removed]",
      "text/plain": [
       "<Figure size 640x480 with 2 Axes>"
      ]
     },
     "metadata": {},
     "output_type": "display_data"
    }
   ],
   "source": [
    "# Ground truth vector\n",
    "y_true = np.array(iris['Species'].tolist())\n",
    "\n",
    "#Predicted cluster lable vector\n",
    "y_pred_mapped = [mapping[cluster] for cluster in predicted_class_lables_np]\n",
    "\n",
    "cnf_matrix = confusion_matrix(y_true , y_pred_mapped)\n",
    "cm_display = ConfusionMatrixDisplay.from_predictions(y_true,y_pred_mapped , display_labels = class_names)\n"
   ]
  },
  {
   "cell_type": "markdown",
   "metadata": {},
   "source": [
    "Calculating Accuracy from Confusion Matrix"
   ]
  },
  {
   "cell_type": "code",
   "execution_count": 40,
   "metadata": {},
   "outputs": [
    {
     "name": "stdout",
     "output_type": "stream",
     "text": [
      "Clustering Accuracy: 91.33%\n"
     ]
    }
   ],
   "source": [
    "# Calculate clustering accuracy\n",
    "accuracy = np.trace(cnf_matrix) / np.sum(cnf_matrix)\n",
    "print(\"Clustering Accuracy: {:.2f}%\".format(accuracy * 100))"
   ]
  }
 ],
 "metadata": {
  "kernelspec": {
   "display_name": "base",
   "language": "python",
   "name": "python3"
  },
  "language_info": {
   "codemirror_mode": {
    "name": "ipython",
    "version": 3
   },
   "file_extension": ".py",
   "mimetype": "text/x-python",
   "name": "python",
   "nbconvert_exporter": "python",
   "pygments_lexer": "ipython3",
   "version": "3.11.7"
  }
 },
 "nbformat": 4,
 "nbformat_minor": 2
}
